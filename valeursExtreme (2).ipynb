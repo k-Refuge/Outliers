{
  "cells": [
    {
      "cell_type": "markdown",
      "metadata": {
        "id": "pWd_OUc4X6e_"
      },
      "source": [
        "Arthur Pochic ING3 DS"
      ]
    },
    {
      "cell_type": "markdown",
      "metadata": {
        "id": "rzO57fT2DiKQ"
      },
      "source": [
        "# Méthode de l'écart interquartile"
      ]
    },
    {
      "cell_type": "markdown",
      "metadata": {
        "id": "HMtzPsKCYnC6"
      },
      "source": [
        "On import le fichier sonar.all-data.csv et on nomme les colonnes d'observations de F1 à F60 ainsi que la variable cible comme OBJET."
      ]
    },
    {
      "cell_type": "code",
      "execution_count": 53,
      "metadata": {
        "colab": {
          "base_uri": "https://localhost:8080/"
        },
        "id": "awgaDZBfgV6q",
        "outputId": "18cb7d5a-b48c-43f8-9861-af66e60c76f8"
      },
      "outputs": [
        {
          "name": "stdout",
          "output_type": "stream",
          "text": [
            "OBJET\n",
            "M    111\n",
            "R     97\n",
            "Name: count, dtype: int64\n",
            "['F1' 'F2' 'F3' 'F4' 'F5' 'F6' 'F7' 'F8' 'F9' 'F10' 'F11' 'F12' 'F13'\n",
            " 'F14' 'F15' 'F16' 'F17' 'F18' 'F19' 'F20' 'F21' 'F22' 'F23' 'F24' 'F25'\n",
            " 'F26' 'F27' 'F28' 'F29' 'F30' 'F31' 'F32' 'F33' 'F34' 'F35' 'F36' 'F37'\n",
            " 'F38' 'F39' 'F40' 'F41' 'F42' 'F43' 'F44' 'F45' 'F46' 'F47' 'F48' 'F49'\n",
            " 'F50' 'F51' 'F52' 'F53' 'F54' 'F55' 'F56' 'F57' 'F58' 'F59' 'F60' 'OBJET']\n",
            "(208, 61)\n"
          ]
        }
      ],
      "source": [
        "#Aquisition des données\n",
        "import pandas as pnd\n",
        "#observations = pnd.read_csv(\"datas/sonar.all-data.csv\")\n",
        "\n",
        "import pandas as pnd\n",
        "observations = pnd.read_csv(\"sonar.all-data.csv\", names=[\"F1\",\"F2\",\"F3\",\"F4\",\"F5\",\"F6\",\"F7\",\"F8\",\"F9\",\n",
        "                                                      \"F10\",\"F11\",\"F12\",\"F13\",\"F14\",\"F15\",\"F16\",\"F17\",\"F18\",\"F19\",\n",
        "                                                      \"F20\",\"F21\",\"F22\",\"F23\",\"F24\",\"F25\",\"F26\",\"F27\",\"F28\",\"F29\",\n",
        "                                                      \"F30\",\"F31\",\"F32\",\"F33\",\"F34\",\"F35\",\"F36\",\"F37\",\"F38\",\"F39\",\n",
        "                                                      \"F40\",\"F41\",\"F42\",\"F43\",\"F44\",\"F45\",\"F46\",\"F47\",\"F48\",\"F49\",\n",
        "                                                      \"F50\",\"F51\",\"F52\",\"F53\",\"F54\",\"F55\",\"F56\",\"F57\",\"F58\",\"F59\",\n",
        "                                                      \"F60\",\"OBJET\"])\n",
        "observations.head(2)\n",
        "print(observations['OBJET'].value_counts())\n",
        "print(observations.columns.values)\n",
        "print(observations.shape)"
      ]
    },
    {
      "cell_type": "code",
      "execution_count": 54,
      "metadata": {},
      "outputs": [
        {
          "data": {
            "text/plain": [
              "0    R\n",
              "1    R\n",
              "Name: OBJET, dtype: object"
            ]
          },
          "execution_count": 54,
          "metadata": {},
          "output_type": "execute_result"
        }
      ],
      "source": [
        "observations[\"OBJET\"].head(2)"
      ]
    },
    {
      "cell_type": "markdown",
      "metadata": {
        "id": "wQ5ygVGqgV6r"
      },
      "source": [
        "\n",
        "Nous allons identifier les valeurs extrêmes présentes dans les lignes du dataset.\n",
        "Une donnée est considérée comme aberrante lorsque l’écart absolu par rapport à Q1 ou Q3 dépasse 1,5 fois l’écart interquartile (IQR).\n",
        "Plus concrètement :\n",
        "- une valeur est dite aberrante faible si elle est inférieure à Q1 - 1.5 * (Q3 - Q1),\n",
        "- et aberrante élevée si elle est supérieure à Q3 + 1.5 * (Q3 - Q1).\n",
        "\n",
        "Enfin, nous supprimerons les lignes contenant au moins 7 valeurs aberrantes.\n"
      ]
    },
    {
      "cell_type": "code",
      "execution_count": 55,
      "metadata": {
        "colab": {
          "base_uri": "https://localhost:8080/"
        },
        "id": "dV4ZQB4-gV6r",
        "outputId": "3ad3736f-a792-4d7d-d0f6-d63a91fabf9f"
      },
      "outputs": [
        {
          "name": "stdout",
          "output_type": "stream",
          "text": [
            "0      0\n",
            "1      0\n",
            "2      0\n",
            "3      0\n",
            "4      0\n",
            "      ..\n",
            "203    1\n",
            "204    1\n",
            "205    1\n",
            "206    1\n",
            "207    1\n",
            "Name: OBJET, Length: 208, dtype: int64\n"
          ]
        }
      ],
      "source": [
        "#rendre la colonne Objet numérique\n",
        "observations['OBJET'] = observations['OBJET'].map({'M': 1, 'R': 0})\n",
        "print(observations['OBJET'])"
      ]
    },
    {
      "cell_type": "code",
      "execution_count": 56,
      "metadata": {
        "id": "WTtBk-1MgV6s"
      },
      "outputs": [],
      "source": [
        "#On crée la liste des colonnes à traiter\n",
        "colonnes = [col for col in observations.columns if col != \"OBJET\"]\n",
        "\n",
        "#On définit Q1 et Q3 ainsi que IQR\n",
        "Q1 = observations[colonnes].quantile(0.25)\n",
        "Q3 = observations[colonnes].quantile(0.75)\n",
        "IQR = Q3 - Q1\n",
        "\n"
      ]
    },
    {
      "cell_type": "code",
      "execution_count": 57,
      "metadata": {
        "colab": {
          "base_uri": "https://localhost:8080/"
        },
        "id": "yMAPBt1PgV6s",
        "outputId": "9b7fabda-8f50-43cf-ae8a-f98f5f71ada5"
      },
      "outputs": [
        {
          "name": "stdout",
          "output_type": "stream",
          "text": [
            "F1\n",
            "liste_donnees_extremes pour la caractéristique F1 = [4, 87, 98, 126, 129, 131, 132, 133, 134, 136, 138, 141, 145, 146, 148]\n",
            "------- --------\n",
            "F2\n",
            "liste_donnees_extremes pour la caractéristique F2 = [6, 85, 98, 100, 102, 129, 131, 134, 136, 138, 140, 141, 145]\n",
            "------- --------\n",
            "F3\n",
            "liste_donnees_extremes pour la caractéristique F3 = [6, 85, 98, 100, 102, 111, 129, 138, 141, 142, 148]\n",
            "------- --------\n",
            "F4\n",
            "liste_donnees_extremes pour la caractéristique F4 = [6, 19, 20, 85, 97, 98, 102, 111, 129, 133, 138, 141, 148]\n",
            "------- --------\n",
            "F5\n",
            "liste_donnees_extremes pour la caractéristique F5 = [19, 98, 111, 130, 147]\n",
            "------- --------\n",
            "F6\n",
            "liste_donnees_extremes pour la caractéristique F6 = [1, 19, 20, 90, 91, 130, 138, 143]\n",
            "------- --------\n",
            "F7\n",
            "liste_donnees_extremes pour la caractéristique F7 = [19, 20, 91, 127, 134]\n",
            "------- --------\n",
            "F8\n",
            "liste_donnees_extremes pour la caractéristique F8 = [1, 2, 19, 87, 91, 127, 132, 134, 135, 136, 171]\n",
            "------- --------\n",
            "F9\n",
            "liste_donnees_extremes pour la caractéristique F9 = [2, 19, 132, 133, 134, 135, 136, 171]\n",
            "------- --------\n",
            "F10\n",
            "liste_donnees_extremes pour la caractéristique F10 = [2, 19, 131, 133, 134, 135, 136, 137, 171, 184]\n",
            "------- --------\n",
            "F11\n",
            "liste_donnees_extremes pour la caractéristique F11 = [2, 19, 137, 171, 184]\n",
            "------- --------\n",
            "F12\n",
            "liste_donnees_extremes pour la caractéristique F12 = [1, 2]\n",
            "------- --------\n",
            "F13\n",
            "liste_donnees_extremes pour la caractéristique F13 = [1, 5, 101, 129]\n",
            "------- --------\n",
            "F14\n",
            "liste_donnees_extremes pour la caractéristique F14 = [1, 5, 101, 127, 130]\n",
            "------- --------\n",
            "F15\n",
            "liste_donnees_extremes pour la caractéristique F15 = [5, 127]\n",
            "------- --------\n",
            "F16\n",
            "liste_donnees_extremes pour la caractéristique F16 = []\n",
            "------- --------\n",
            "F17\n",
            "liste_donnees_extremes pour la caractéristique F17 = []\n",
            "------- --------\n",
            "F18\n",
            "liste_donnees_extremes pour la caractéristique F18 = []\n",
            "------- --------\n",
            "F19\n",
            "liste_donnees_extremes pour la caractéristique F19 = []\n",
            "------- --------\n",
            "F20\n",
            "liste_donnees_extremes pour la caractéristique F20 = []\n",
            "------- --------\n",
            "F21\n",
            "liste_donnees_extremes pour la caractéristique F21 = []\n",
            "------- --------\n",
            "F22\n",
            "liste_donnees_extremes pour la caractéristique F22 = []\n",
            "------- --------\n",
            "F23\n",
            "liste_donnees_extremes pour la caractéristique F23 = []\n",
            "------- --------\n",
            "F24\n",
            "liste_donnees_extremes pour la caractéristique F24 = [101, 133]\n",
            "------- --------\n",
            "F25\n",
            "liste_donnees_extremes pour la caractéristique F25 = []\n",
            "------- --------\n",
            "F26\n",
            "liste_donnees_extremes pour la caractéristique F26 = []\n",
            "------- --------\n",
            "F27\n",
            "liste_donnees_extremes pour la caractéristique F27 = []\n",
            "------- --------\n",
            "F28\n",
            "liste_donnees_extremes pour la caractéristique F28 = []\n",
            "------- --------\n",
            "F29\n",
            "liste_donnees_extremes pour la caractéristique F29 = []\n",
            "------- --------\n",
            "F30\n",
            "liste_donnees_extremes pour la caractéristique F30 = []\n",
            "------- --------\n",
            "F31\n",
            "liste_donnees_extremes pour la caractéristique F31 = []\n",
            "------- --------\n",
            "F32\n",
            "liste_donnees_extremes pour la caractéristique F32 = []\n",
            "------- --------\n",
            "F33\n",
            "liste_donnees_extremes pour la caractéristique F33 = []\n",
            "------- --------\n",
            "F34\n",
            "liste_donnees_extremes pour la caractéristique F34 = []\n",
            "------- --------\n",
            "F35\n",
            "liste_donnees_extremes pour la caractéristique F35 = []\n",
            "------- --------\n",
            "F36\n",
            "liste_donnees_extremes pour la caractéristique F36 = []\n",
            "------- --------\n",
            "F37\n",
            "liste_donnees_extremes pour la caractéristique F37 = []\n",
            "------- --------\n",
            "F38\n",
            "liste_donnees_extremes pour la caractéristique F38 = [3, 17, 21, 22, 131, 134, 135, 136]\n",
            "------- --------\n",
            "F39\n",
            "liste_donnees_extremes pour la caractéristique F39 = [3, 21, 22, 44, 131]\n",
            "------- --------\n",
            "F40\n",
            "liste_donnees_extremes pour la caractéristique F40 = [3, 22, 44, 164]\n",
            "------- --------\n",
            "F41\n",
            "liste_donnees_extremes pour la caractéristique F41 = [16, 22, 44, 164]\n",
            "------- --------\n",
            "F42\n",
            "liste_donnees_extremes pour la caractéristique F42 = [22, 44, 143, 146]\n",
            "------- --------\n",
            "F43\n",
            "liste_donnees_extremes pour la caractéristique F43 = [44, 47, 140, 146, 181]\n",
            "------- --------\n",
            "F44\n",
            "liste_donnees_extremes pour la caractéristique F44 = [44, 142, 146, 156, 157, 158, 159, 161, 181, 183, 186]\n",
            "------- --------\n",
            "F45\n",
            "liste_donnees_extremes pour la caractéristique F45 = [22, 44, 131, 133, 134, 136, 140, 141, 142, 143, 144, 146, 147, 156, 157, 158, 159, 161, 180, 181, 182, 183, 185, 186]\n",
            "------- --------\n",
            "F46\n",
            "liste_donnees_extremes pour la caractéristique F46 = [22, 44, 131, 136, 140, 141, 142, 143, 144, 145, 146, 147, 157, 161, 166, 186]\n",
            "------- --------\n",
            "F47\n",
            "liste_donnees_extremes pour la caractéristique F47 = [22, 44, 138, 140, 142, 143, 144, 146, 147, 157, 161, 166, 186]\n",
            "------- --------\n",
            "F48\n",
            "liste_donnees_extremes pour la caractéristique F48 = [22, 135, 138, 140, 146, 147, 161, 166, 186]\n",
            "------- --------\n",
            "F49\n",
            "liste_donnees_extremes pour la caractéristique F49 = [22, 86, 87, 138, 140, 146, 161, 186]\n",
            "------- --------\n",
            "F50\n",
            "liste_donnees_extremes pour la caractéristique F50 = [16, 22, 33, 130, 131, 132, 133, 140, 145, 146, 147, 149, 164, 186]\n",
            "------- --------\n",
            "F51\n",
            "liste_donnees_extremes pour la caractéristique F51 = [16, 22, 135, 140, 143, 146]\n",
            "------- --------\n",
            "F52\n",
            "liste_donnees_extremes pour la caractéristique F52 = [16, 17, 35, 98, 102, 104, 136, 138, 140, 142, 143, 144, 146]\n",
            "------- --------\n",
            "F53\n",
            "liste_donnees_extremes pour la caractéristique F53 = [133, 146, 147]\n",
            "------- --------\n",
            "F54\n",
            "liste_donnees_extremes pour la caractéristique F54 = [129, 132, 133, 135, 138, 142, 146]\n",
            "------- --------\n",
            "F55\n",
            "liste_donnees_extremes pour la caractéristique F55 = [99, 104, 105, 127, 134, 142, 145, 146, 147]\n",
            "------- --------\n",
            "F56\n",
            "liste_donnees_extremes pour la caractéristique F56 = [2, 105, 132, 133, 135, 147]\n",
            "------- --------\n",
            "F57\n",
            "liste_donnees_extremes pour la caractéristique F57 = [2, 34, 36, 87, 99, 100, 112, 147]\n",
            "------- --------\n",
            "F58\n",
            "liste_donnees_extremes pour la caractéristique F58 = [99, 101, 112, 122, 127, 136, 140, 146, 147]\n",
            "------- --------\n",
            "F59\n",
            "liste_donnees_extremes pour la caractéristique F59 = [44, 65, 88, 97, 102, 115, 132, 135, 138, 142, 146, 147]\n",
            "------- --------\n",
            "F60\n",
            "liste_donnees_extremes pour la caractéristique F60 = [44, 88, 97, 98, 115, 136, 141, 142]\n",
            "------- --------\n",
            "Index de toutes les données extrêmes : [4, 87, 98, 126, 129, 131, 132, 133, 134, 136, 138, 141, 145, 146, 148, 6, 85, 98, 100, 102, 129, 131, 134, 136, 138, 140, 141, 145, 6, 85, 98, 100, 102, 111, 129, 138, 141, 142, 148, 6, 19, 20, 85, 97, 98, 102, 111, 129, 133, 138, 141, 148, 19, 98, 111, 130, 147, 1, 19, 20, 90, 91, 130, 138, 143, 19, 20, 91, 127, 134, 1, 2, 19, 87, 91, 127, 132, 134, 135, 136, 171, 2, 19, 132, 133, 134, 135, 136, 171, 2, 19, 131, 133, 134, 135, 136, 137, 171, 184, 2, 19, 137, 171, 184, 1, 2, 1, 5, 101, 129, 1, 5, 101, 127, 130, 5, 127, 101, 133, 3, 17, 21, 22, 131, 134, 135, 136, 3, 21, 22, 44, 131, 3, 22, 44, 164, 16, 22, 44, 164, 22, 44, 143, 146, 44, 47, 140, 146, 181, 44, 142, 146, 156, 157, 158, 159, 161, 181, 183, 186, 22, 44, 131, 133, 134, 136, 140, 141, 142, 143, 144, 146, 147, 156, 157, 158, 159, 161, 180, 181, 182, 183, 185, 186, 22, 44, 131, 136, 140, 141, 142, 143, 144, 145, 146, 147, 157, 161, 166, 186, 22, 44, 138, 140, 142, 143, 144, 146, 147, 157, 161, 166, 186, 22, 135, 138, 140, 146, 147, 161, 166, 186, 22, 86, 87, 138, 140, 146, 161, 186, 16, 22, 33, 130, 131, 132, 133, 140, 145, 146, 147, 149, 164, 186, 16, 22, 135, 140, 143, 146, 16, 17, 35, 98, 102, 104, 136, 138, 140, 142, 143, 144, 146, 133, 146, 147, 129, 132, 133, 135, 138, 142, 146, 99, 104, 105, 127, 134, 142, 145, 146, 147, 2, 105, 132, 133, 135, 147, 2, 34, 36, 87, 99, 100, 112, 147, 99, 101, 112, 122, 127, 136, 140, 146, 147, 44, 65, 88, 97, 102, 115, 132, 135, 138, 142, 146, 147, 44, 88, 97, 98, 115, 136, 141, 142]\n"
          ]
        }
      ],
      "source": [
        "# On parcourt toutes les caractéristiques\n",
        "import numpy as np\n",
        "\n",
        "num_lignes = []  # liste qui va contenir les index des données extrêmes\n",
        "\n",
        "for caracteristique in colonnes:\n",
        "    print(caracteristique)\n",
        "\n",
        "    #Pour chaque colonne, on détermine les seuils supérieur et inférieur\n",
        "    low_bound = Q1[caracteristique] - 1.5 * IQR[caracteristique]\n",
        "    up_bound = Q3[caracteristique] + 1.5 * IQR[caracteristique]\n",
        "\n",
        "    #On récupère les indices des lignes pour lesquelles le booléen est True\n",
        "    indices_extremes = observations[\n",
        "        (observations[caracteristique] < low_bound) |\n",
        "        (observations[caracteristique] > up_bound)\n",
        "    ].index.tolist()\n",
        "\n",
        "    #On ajoute ces indices à la liste num_lignes\n",
        "    num_lignes.extend(indices_extremes)\n",
        "\n",
        "    print(f\"liste_donnees_extremes pour la caractéristique {caracteristique} = {indices_extremes}\")\n",
        "    print(\"------- --------\")\n",
        "\n",
        "# Affichage final des index de toutes les données extrêmes\n",
        "print(\"Index de toutes les données extrêmes :\", num_lignes)\n"
      ]
    },
    {
      "cell_type": "code",
      "execution_count": 58,
      "metadata": {
        "colab": {
          "base_uri": "https://localhost:8080/"
        },
        "id": "rdLYjicbgV6s",
        "outputId": "1e99c4b1-d425-4c74-9c48-95770a5322f6"
      },
      "outputs": [
        {
          "name": "stdout",
          "output_type": "stream",
          "text": [
            "[1, 1, 1, 1, 1, 2, 2, 2, 2, 2, 2, 2, 3, 3, 3, 4, 5, 5, 5, 6, 6, 6, 16, 16, 16, 16, 17, 17, 19, 19, 19, 19, 19, 19, 19, 19, 20, 20, 20, 21, 21, 22, 22, 22, 22, 22, 22, 22, 22, 22, 22, 22, 22, 33, 34, 35, 36, 44, 44, 44, 44, 44, 44, 44, 44, 44, 44, 44, 47, 65, 85, 85, 85, 86, 87, 87, 87, 87, 88, 88, 90, 91, 91, 91, 97, 97, 97, 98, 98, 98, 98, 98, 98, 98, 99, 99, 99, 100, 100, 100, 101, 101, 101, 101, 102, 102, 102, 102, 102, 104, 104, 105, 105, 111, 111, 111, 112, 112, 115, 115, 122, 126, 127, 127, 127, 127, 127, 127, 129, 129, 129, 129, 129, 129, 130, 130, 130, 130, 131, 131, 131, 131, 131, 131, 131, 131, 132, 132, 132, 132, 132, 132, 132, 133, 133, 133, 133, 133, 133, 133, 133, 133, 133, 134, 134, 134, 134, 134, 134, 134, 134, 134, 135, 135, 135, 135, 135, 135, 135, 135, 135, 136, 136, 136, 136, 136, 136, 136, 136, 136, 136, 136, 137, 137, 138, 138, 138, 138, 138, 138, 138, 138, 138, 138, 138, 140, 140, 140, 140, 140, 140, 140, 140, 140, 140, 140, 141, 141, 141, 141, 141, 141, 141, 142, 142, 142, 142, 142, 142, 142, 142, 142, 142, 143, 143, 143, 143, 143, 143, 143, 144, 144, 144, 144, 145, 145, 145, 145, 145, 146, 146, 146, 146, 146, 146, 146, 146, 146, 146, 146, 146, 146, 146, 146, 146, 146, 147, 147, 147, 147, 147, 147, 147, 147, 147, 147, 147, 147, 148, 148, 148, 149, 156, 156, 157, 157, 157, 157, 158, 158, 159, 159, 161, 161, 161, 161, 161, 161, 164, 164, 164, 166, 166, 166, 171, 171, 171, 171, 180, 181, 181, 181, 182, 183, 183, 184, 184, 185, 186, 186, 186, 186, 186, 186, 186]\n"
          ]
        }
      ],
      "source": [
        "#On ordonne la liste par ordre croissant des index\n",
        "num_lignes.sort()\n",
        "print(num_lignes)\n",
        "\n",
        "#On crée une liste contenant les numéros de lignes à supprimer\n",
        "num_lignes_a_supprimer_iq=[]\n",
        "\n",
        "from collections import Counter\n",
        "\n",
        "#On compte les occurrences par ligne\n",
        "counts = Counter(num_lignes)\n",
        "\n",
        "#On sélectionne les lignes avec au moins 7 valeurs aberrantes\n",
        "num_lignes_a_supprimer_iq = [idx for idx, cnt in counts.items() if cnt > 7]\n",
        "\n",
        "#On supprime les lignes\n",
        "cleaned_data_iq = observations.drop(index=num_lignes_a_supprimer_iq).reset_index(drop=True)"
      ]
    },
    {
      "cell_type": "code",
      "execution_count": 59,
      "metadata": {
        "colab": {
          "base_uri": "https://localhost:8080/"
        },
        "id": "53yTbYHcAP7U",
        "outputId": "6187240e-8db0-45c1-f79f-bdc3b87a3024"
      },
      "outputs": [
        {
          "name": "stdout",
          "output_type": "stream",
          "text": [
            "[19, 22, 44, 131, 133, 134, 135, 136, 138, 140, 142, 146, 147]\n"
          ]
        }
      ],
      "source": [
        "print(num_lignes_a_supprimer_iq)"
      ]
    },
    {
      "cell_type": "markdown",
      "metadata": {
        "id": "PeHY4qd4pDG3"
      },
      "source": [
        "<h1>Travail demandé</h1>\n",
        "Rédigez un état de l’art sur la détection des valeurs aberrantes (outliers) dans les datasets. Vous devez :\n",
        "\n",
        "1. Présenter les principales méthodes existantes (statistiques classiques, méthodes robustes, techniques basées sur le machine learning, approches graphiques…).\n",
        "\n",
        "2. Comparer leurs avantages et limites selon le type de données (univariées, multivariées, volumineuses…).\n",
        "\n",
        "3. Illustrer chaque méthode par des exemples concrets d’application"
      ]
    },
    {
      "cell_type": "markdown",
      "metadata": {
        "id": "gldmQC9uDS_e"
      },
      "source": [
        "# Méthode des écarts types"
      ]
    },
    {
      "cell_type": "markdown",
      "metadata": {
        "id": "r8zYUKB8A4Yz"
      },
      "source": [
        "Nous allons maintenant faire le même travail avec une autre méthode. La méthode des écarts types."
      ]
    },
    {
      "cell_type": "code",
      "execution_count": 60,
      "metadata": {
        "id": "nKB467vEpK-b"
      },
      "outputs": [],
      "source": [
        "#On introduit le paramètre pour la règle des écarts types. Généralement 3 (≈99.7% des données selon la loi normale).\n",
        "k = 3"
      ]
    },
    {
      "cell_type": "code",
      "execution_count": null,
      "metadata": {
        "colab": {
          "base_uri": "https://localhost:8080/"
        },
        "id": "_qAtL7wMBrGw",
        "outputId": "6e48455c-fc00-4e24-c7ab-7ed1a92588ae"
      },
      "outputs": [
        {
          "name": "stdout",
          "output_type": "stream",
          "text": [
            "F1\n",
            "liste_donnees_extremes pour la caractéristique F1 = [98, 129, 131, 134, 136, 146]\n",
            "------- --------\n",
            "F2\n",
            "liste_donnees_extremes pour la caractéristique F2 = [85, 98, 145]\n",
            "------- --------\n",
            "F3\n",
            "liste_donnees_extremes pour la caractéristique F3 = [85, 98, 111, 138]\n",
            "------- --------\n",
            "F4\n",
            "liste_donnees_extremes pour la caractéristique F4 = [98, 111]\n",
            "------- --------\n",
            "F5\n",
            "liste_donnees_extremes pour la caractéristique F5 = [19, 98, 111, 147]\n",
            "------- --------\n",
            "F6\n",
            "liste_donnees_extremes pour la caractéristique F6 = [20, 91]\n",
            "------- --------\n",
            "F7\n",
            "liste_donnees_extremes pour la caractéristique F7 = [91, 134]\n",
            "------- --------\n",
            "F8\n",
            "liste_donnees_extremes pour la caractéristique F8 = [19, 132, 134, 135, 136]\n",
            "------- --------\n",
            "F9\n",
            "liste_donnees_extremes pour la caractéristique F9 = [2, 132, 133, 134, 135, 136]\n",
            "------- --------\n",
            "F10\n",
            "liste_donnees_extremes pour la caractéristique F10 = [2, 133, 137]\n",
            "------- --------\n",
            "F11\n",
            "liste_donnees_extremes pour la caractéristique F11 = [137, 184]\n",
            "------- --------\n",
            "F12\n",
            "liste_donnees_extremes pour la caractéristique F12 = [2]\n",
            "------- --------\n",
            "F13\n",
            "liste_donnees_extremes pour la caractéristique F13 = [101, 129]\n",
            "------- --------\n",
            "F14\n",
            "liste_donnees_extremes pour la caractéristique F14 = [5, 127]\n",
            "------- --------\n",
            "F15\n",
            "liste_donnees_extremes pour la caractéristique F15 = [5]\n",
            "------- --------\n",
            "F16\n",
            "liste_donnees_extremes pour la caractéristique F16 = []\n",
            "------- --------\n",
            "F17\n",
            "liste_donnees_extremes pour la caractéristique F17 = []\n",
            "------- --------\n",
            "F18\n",
            "liste_donnees_extremes pour la caractéristique F18 = []\n",
            "------- --------\n",
            "F19\n",
            "liste_donnees_extremes pour la caractéristique F19 = []\n",
            "------- --------\n",
            "F20\n",
            "liste_donnees_extremes pour la caractéristique F20 = []\n",
            "------- --------\n",
            "F21\n",
            "liste_donnees_extremes pour la caractéristique F21 = []\n",
            "------- --------\n",
            "F22\n",
            "liste_donnees_extremes pour la caractéristique F22 = []\n",
            "------- --------\n",
            "F23\n",
            "liste_donnees_extremes pour la caractéristique F23 = []\n",
            "------- --------\n",
            "F24\n",
            "liste_donnees_extremes pour la caractéristique F24 = []\n",
            "------- --------\n",
            "F25\n",
            "liste_donnees_extremes pour la caractéristique F25 = []\n",
            "------- --------\n",
            "F26\n",
            "liste_donnees_extremes pour la caractéristique F26 = []\n",
            "------- --------\n",
            "F27\n",
            "liste_donnees_extremes pour la caractéristique F27 = []\n",
            "------- --------\n",
            "F28\n",
            "liste_donnees_extremes pour la caractéristique F28 = []\n",
            "------- --------\n",
            "F29\n",
            "liste_donnees_extremes pour la caractéristique F29 = []\n",
            "------- --------\n",
            "F30\n",
            "liste_donnees_extremes pour la caractéristique F30 = []\n",
            "------- --------\n",
            "F31\n",
            "liste_donnees_extremes pour la caractéristique F31 = []\n",
            "------- --------\n",
            "F32\n",
            "liste_donnees_extremes pour la caractéristique F32 = []\n",
            "------- --------\n",
            "F33\n",
            "liste_donnees_extremes pour la caractéristique F33 = []\n",
            "------- --------\n",
            "F34\n",
            "liste_donnees_extremes pour la caractéristique F34 = []\n",
            "------- --------\n",
            "F35\n",
            "liste_donnees_extremes pour la caractéristique F35 = []\n",
            "------- --------\n",
            "F36\n",
            "liste_donnees_extremes pour la caractéristique F36 = []\n",
            "------- --------\n",
            "F37\n",
            "liste_donnees_extremes pour la caractéristique F37 = []\n",
            "------- --------\n",
            "F38\n",
            "liste_donnees_extremes pour la caractéristique F38 = [21]\n",
            "------- --------\n",
            "F39\n",
            "liste_donnees_extremes pour la caractéristique F39 = [3, 22]\n",
            "------- --------\n",
            "F40\n",
            "liste_donnees_extremes pour la caractéristique F40 = [3, 22, 44]\n",
            "------- --------\n",
            "F41\n",
            "liste_donnees_extremes pour la caractéristique F41 = [22]\n",
            "------- --------\n",
            "F42\n",
            "liste_donnees_extremes pour la caractéristique F42 = [22, 143, 146]\n",
            "------- --------\n",
            "F43\n",
            "liste_donnees_extremes pour la caractéristique F43 = [44, 146]\n",
            "------- --------\n",
            "F44\n",
            "liste_donnees_extremes pour la caractéristique F44 = [44]\n",
            "------- --------\n",
            "F45\n",
            "liste_donnees_extremes pour la caractéristique F45 = [186]\n",
            "------- --------\n",
            "F46\n",
            "liste_donnees_extremes pour la caractéristique F46 = [140, 141, 143, 146, 147, 186]\n",
            "------- --------\n",
            "F47\n",
            "liste_donnees_extremes pour la caractéristique F47 = [22, 140, 146, 161, 186]\n",
            "------- --------\n",
            "F48\n",
            "liste_donnees_extremes pour la caractéristique F48 = [22, 138, 146]\n",
            "------- --------\n",
            "F49\n",
            "liste_donnees_extremes pour la caractéristique F49 = [22, 140, 146]\n",
            "------- --------\n",
            "F50\n",
            "liste_donnees_extremes pour la caractéristique F50 = [22, 33, 140, 145, 147]\n",
            "------- --------\n",
            "F51\n",
            "liste_donnees_extremes pour la caractéristique F51 = [140, 146]\n",
            "------- --------\n",
            "F52\n",
            "liste_donnees_extremes pour la caractéristique F52 = [136, 138, 143, 144, 146]\n",
            "------- --------\n",
            "F53\n",
            "liste_donnees_extremes pour la caractéristique F53 = [133, 147]\n",
            "------- --------\n",
            "F54\n",
            "liste_donnees_extremes pour la caractéristique F54 = [129, 135, 142]\n",
            "------- --------\n",
            "F55\n",
            "liste_donnees_extremes pour la caractéristique F55 = [127, 142, 147]\n",
            "------- --------\n",
            "F56\n",
            "liste_donnees_extremes pour la caractéristique F56 = [105, 135, 147]\n",
            "------- --------\n",
            "F57\n",
            "liste_donnees_extremes pour la caractéristique F57 = [2, 87, 147]\n",
            "------- --------\n",
            "F58\n",
            "liste_donnees_extremes pour la caractéristique F58 = [101, 112, 127, 147]\n",
            "------- --------\n",
            "F59\n",
            "liste_donnees_extremes pour la caractéristique F59 = [65, 97, 142]\n",
            "------- --------\n",
            "F60\n",
            "liste_donnees_extremes pour la caractéristique F60 = [97, 98, 141]\n",
            "------- --------\n",
            "Index de toutes les données extrêmes : [98, 129, 131, 134, 136, 146, 85, 98, 145, 85, 98, 111, 138, 98, 111, 19, 98, 111, 147, 20, 91, 91, 134, 19, 132, 134, 135, 136, 2, 132, 133, 134, 135, 136, 2, 133, 137, 137, 184, 2, 101, 129, 5, 127, 5, 21, 3, 22, 3, 22, 44, 22, 22, 143, 146, 44, 146, 44, 186, 140, 141, 143, 146, 147, 186, 22, 140, 146, 161, 186, 22, 138, 146, 22, 140, 146, 22, 33, 140, 145, 147, 140, 146, 136, 138, 143, 144, 146, 133, 147, 129, 135, 142, 127, 142, 147, 105, 135, 147, 2, 87, 147, 101, 112, 127, 147, 65, 97, 142, 97, 98, 141]\n"
          ]
        }
      ],
      "source": [
        "# On parcourt toutes les caractéristiques\n",
        "import numpy as np\n",
        "\n",
        "num_lignes = []  # liste qui va contenir les index des données extrêmes\n",
        "\n",
        "for caracteristique in colonnes:\n",
        "    print(caracteristique)\n",
        "\n",
        "    #Pour chaque colonne, on détermine la moyenne et l'écart type\n",
        "    mean = observations[caracteristique].mean()\n",
        "    std = observations[caracteristique].std()\n",
        "\n",
        "    #On récupère les indices des lignes pour lesquelles le booléen est True\n",
        "    indices_extremes = observations[\n",
        "        (observations[caracteristique] < mean-k*std) |\n",
        "        (observations[caracteristique] > mean+k*std)\n",
        "    ].index.tolist()\n",
        "\n",
        "    #On ajoute ces indices à la liste num_lignes\n",
        "    num_lignes.extend(indices_extremes)\n",
        "\n",
        "    #print(f\"liste_donnees_extremes pour la caractéristique {caracteristique} = {indices_extremes}\")\n",
        "    #print(\"------- --------\")\n",
        "\n",
        "# Affichage final des index de toutes les données extrêmes\n",
        "print(\"Index de toutes les données extrêmes :\", num_lignes)"
      ]
    },
    {
      "cell_type": "code",
      "execution_count": 62,
      "metadata": {
        "colab": {
          "base_uri": "https://localhost:8080/"
        },
        "id": "S8cTsFaRCi5T",
        "outputId": "1b617c79-7121-4aa9-8815-0043478a6122"
      },
      "outputs": [
        {
          "name": "stdout",
          "output_type": "stream",
          "text": [
            "[2, 2, 2, 2, 3, 3, 5, 5, 19, 19, 20, 21, 22, 22, 22, 22, 22, 22, 22, 22, 33, 44, 44, 44, 65, 85, 85, 87, 91, 91, 97, 97, 98, 98, 98, 98, 98, 98, 101, 101, 105, 111, 111, 111, 112, 127, 127, 127, 129, 129, 129, 131, 132, 132, 133, 133, 133, 134, 134, 134, 134, 135, 135, 135, 135, 136, 136, 136, 136, 137, 137, 138, 138, 138, 140, 140, 140, 140, 140, 141, 141, 142, 142, 142, 143, 143, 143, 144, 145, 145, 146, 146, 146, 146, 146, 146, 146, 146, 146, 147, 147, 147, 147, 147, 147, 147, 147, 161, 184, 186, 186, 186]\n"
          ]
        }
      ],
      "source": [
        "#On ordonne la liste par ordre croissant des index\n",
        "num_lignes.sort()\n",
        "print(num_lignes)\n",
        "\n",
        "#On crée une liste contenant les numéros de lignes à supprimer\n",
        "num_lignes_a_supprimer_et=[]\n",
        "\n",
        "from collections import Counter\n",
        "\n",
        "#On compte les occurrences par ligne\n",
        "counts = Counter(num_lignes)\n",
        "\n",
        "#On sélectionne les lignes avec au moins 7 valeurs aberrantes\n",
        "num_lignes_a_supprimer_et= [idx for idx, cnt in counts.items() if cnt > 7]\n",
        "\n",
        "#On supprime les lignes\n",
        "cleaned_data_et = observations.drop(index=num_lignes_a_supprimer_et).reset_index(drop=True)"
      ]
    },
    {
      "cell_type": "code",
      "execution_count": 63,
      "metadata": {
        "colab": {
          "base_uri": "https://localhost:8080/"
        },
        "id": "yrStPc8LCo61",
        "outputId": "73321e35-45b4-4b5d-b41a-5a467abc7171"
      },
      "outputs": [
        {
          "name": "stdout",
          "output_type": "stream",
          "text": [
            "[22, 146, 147]\n"
          ]
        }
      ],
      "source": [
        "print(num_lignes_a_supprimer_et)"
      ]
    },
    {
      "cell_type": "markdown",
      "metadata": {
        "id": "qA9GJB5cLCdG"
      },
      "source": [
        "# Méthodes des tests statistiques : Test de Grubbs"
      ]
    },
    {
      "cell_type": "markdown",
      "metadata": {
        "colab": {
          "base_uri": "https://localhost:8080/"
        },
        "id": "BePOjZi8MCce",
        "outputId": "34672039-4ac7-431e-d8ca-12129ef7c5f7"
      },
      "source": [
        "import numpy as np\n",
        "from scipy import stats\n",
        "from collections import Counter\n",
        "\n",
        "#Définition de la fonction grubbs_test\n",
        "def grubbs_test(values, alpha=0.05):\n",
        "    n = len(values)\n",
        "    mean = np.mean(values)\n",
        "    std = np.std(values, ddof=1)\n",
        "\n",
        "    #Statistique G\n",
        "    abs_diffs = np.abs(values - mean)\n",
        "    max_idx = np.argmax(abs_diffs)\n",
        "    G = abs_diffs[max_idx] / std\n",
        "\n",
        "    #Valeur critique\n",
        "    t_crit = stats.t.ppf(1 - alpha / (2*n), n-2)\n",
        "    G_crit = ((n-1)/np.sqrt(n)) * np.sqrt(t_crit**2 / (n-2 + t_crit**2))\n",
        "\n",
        "    return G, G_crit, max_idx\n",
        "\n",
        "num_lignes = []\n",
        "\n",
        "for caracteristique in colonnes:\n",
        "    indices_outliers_col = []\n",
        "    data = observations[caracteristique].values\n",
        "    data_copy = data.copy()\n",
        "    indices_copy = np.arange(len(data))\n",
        "\n",
        "    while True:\n",
        "      G, G_crit, idx = grubbs_test(data_copy, alpha=0.05)\n",
        "      if G > G_crit:\n",
        "        #On ajoute l’indice original\n",
        "        indices_outliers_col.append(int(indices_copy[idx]))\n",
        "        #On supprime de la copie\n",
        "        data_copy = np.delete(data_copy, idx)\n",
        "        indices_copy = np.delete(indices_copy, idx)\n",
        "      else:\n",
        "        break\n",
        "\n",
        "    print(caracteristique)\n",
        "    print(f\"liste_donnees_extremes pour {caracteristique} = {indices_outliers_col}\")\n",
        "    print(\"------- --------\")\n",
        "\n",
        "    #On ajoute ces indices à la liste num_lignes\n",
        "    num_lignes.extend(indices_outliers_col)\n",
        "\n",
        "    # Affichage final des index de toutes les données extrêmes\n",
        "print(\"Index de toutes les données extrêmes :\", num_lignes)"
      ]
    },
    {
      "cell_type": "markdown",
      "metadata": {
        "colab": {
          "base_uri": "https://localhost:8080/"
        },
        "id": "DDF1CQS1P3Bp",
        "outputId": "efa82750-7126-4d60-dd31-dced3722bec8"
      },
      "source": [
        "#On ordonne la liste par ordre croissant des index\n",
        "num_lignes.sort()\n",
        "print(num_lignes)\n",
        "\n",
        "#On crée une liste contenant les numéros de lignes à supprimer\n",
        "num_lignes_a_supprimer=[]\n",
        "\n",
        "from collections import Counter\n",
        "\n",
        "#On compte les occurrences par ligne\n",
        "counts = Counter(num_lignes)\n",
        "\n",
        "#On sélectionne les lignes avec au moins 7 valeurs aberrantes\n",
        "num_lignes_a_supprimer = [idx for idx, cnt in counts.items() if cnt > 7]\n",
        "\n",
        "#On supprime les lignes\n",
        "cleaned_data = observations.drop(index=num_lignes_a_supprimer).reset_index(drop=True)"
      ]
    },
    {
      "cell_type": "code",
      "execution_count": 64,
      "metadata": {
        "colab": {
          "base_uri": "https://localhost:8080/"
        },
        "id": "TWf-cPsNP7Xh",
        "outputId": "15517e70-19d2-4739-b9ad-4dfa75ba76e0"
      },
      "outputs": [],
      "source": [
        "#print(num_lignes_a_supprimer)"
      ]
    },
    {
      "cell_type": "markdown",
      "metadata": {},
      "source": [
        "# Methodes Robustes : "
      ]
    },
    {
      "cell_type": "code",
      "execution_count": null,
      "metadata": {},
      "outputs": [
        {
          "name": "stdout",
          "output_type": "stream",
          "text": [
            "F1\n",
            "liste_donnees_extremes pour F1 = [4, 87, 98, 129, 131, 132, 133, 134, 136, 146]\n",
            "------- --------\n",
            "F2\n",
            "liste_donnees_extremes pour F2 = [85, 98, 102, 129, 131, 136, 138, 140, 141, 145]\n",
            "------- --------\n",
            "F3\n",
            "liste_donnees_extremes pour F3 = [6, 85, 98, 100, 102, 111, 129, 138, 141, 148]\n",
            "------- --------\n",
            "F4\n",
            "liste_donnees_extremes pour F4 = [19, 98, 102, 111, 129, 133, 138, 141, 148]\n",
            "------- --------\n",
            "F5\n",
            "liste_donnees_extremes pour F5 = [19, 98, 111, 130, 147]\n",
            "------- --------\n",
            "F6\n",
            "liste_donnees_extremes pour F6 = [20, 91, 138]\n",
            "------- --------\n",
            "F7\n",
            "liste_donnees_extremes pour F7 = [19, 20, 91, 127, 134]\n",
            "------- --------\n",
            "F8\n",
            "liste_donnees_extremes pour F8 = [1, 2, 19, 91, 132, 134, 135, 136, 171]\n",
            "------- --------\n",
            "F9\n",
            "liste_donnees_extremes pour F9 = [2, 19, 132, 133, 134, 135, 136, 171]\n",
            "------- --------\n",
            "F10\n",
            "liste_donnees_extremes pour F10 = [2, 19, 133, 134, 137, 171, 184]\n",
            "------- --------\n",
            "F11\n",
            "liste_donnees_extremes pour F11 = [137, 184]\n",
            "------- --------\n",
            "F12\n",
            "liste_donnees_extremes pour F12 = []\n",
            "------- --------\n",
            "F13\n",
            "liste_donnees_extremes pour F13 = []\n",
            "------- --------\n",
            "F14\n",
            "liste_donnees_extremes pour F14 = [127]\n",
            "------- --------\n",
            "F15\n",
            "liste_donnees_extremes pour F15 = []\n",
            "------- --------\n",
            "F16\n",
            "liste_donnees_extremes pour F16 = []\n",
            "------- --------\n",
            "F17\n",
            "liste_donnees_extremes pour F17 = []\n",
            "------- --------\n",
            "F18\n",
            "liste_donnees_extremes pour F18 = []\n",
            "------- --------\n",
            "F19\n",
            "liste_donnees_extremes pour F19 = []\n",
            "------- --------\n",
            "F20\n",
            "liste_donnees_extremes pour F20 = []\n",
            "------- --------\n",
            "F21\n",
            "liste_donnees_extremes pour F21 = []\n",
            "------- --------\n",
            "F22\n",
            "liste_donnees_extremes pour F22 = []\n",
            "------- --------\n",
            "F23\n",
            "liste_donnees_extremes pour F23 = []\n",
            "------- --------\n",
            "F24\n",
            "liste_donnees_extremes pour F24 = []\n",
            "------- --------\n",
            "F25\n",
            "liste_donnees_extremes pour F25 = []\n",
            "------- --------\n",
            "F26\n",
            "liste_donnees_extremes pour F26 = []\n",
            "------- --------\n",
            "F27\n",
            "liste_donnees_extremes pour F27 = []\n",
            "------- --------\n",
            "F28\n",
            "liste_donnees_extremes pour F28 = []\n",
            "------- --------\n",
            "F29\n",
            "liste_donnees_extremes pour F29 = []\n",
            "------- --------\n",
            "F30\n",
            "liste_donnees_extremes pour F30 = []\n",
            "------- --------\n",
            "F31\n",
            "liste_donnees_extremes pour F31 = []\n",
            "------- --------\n",
            "F32\n",
            "liste_donnees_extremes pour F32 = []\n",
            "------- --------\n",
            "F33\n",
            "liste_donnees_extremes pour F33 = []\n",
            "------- --------\n",
            "F34\n",
            "liste_donnees_extremes pour F34 = []\n",
            "------- --------\n",
            "F35\n",
            "liste_donnees_extremes pour F35 = []\n",
            "------- --------\n",
            "F36\n",
            "liste_donnees_extremes pour F36 = []\n",
            "------- --------\n",
            "F37\n",
            "liste_donnees_extremes pour F37 = []\n",
            "------- --------\n",
            "F38\n",
            "liste_donnees_extremes pour F38 = [21]\n",
            "------- --------\n",
            "F39\n",
            "liste_donnees_extremes pour F39 = [3, 22]\n",
            "------- --------\n",
            "F40\n",
            "liste_donnees_extremes pour F40 = [3, 22]\n",
            "------- --------\n",
            "F41\n",
            "liste_donnees_extremes pour F41 = [22]\n",
            "------- --------\n",
            "F42\n",
            "liste_donnees_extremes pour F42 = [143]\n",
            "------- --------\n",
            "F43\n",
            "liste_donnees_extremes pour F43 = [44, 146]\n",
            "------- --------\n",
            "F44\n",
            "liste_donnees_extremes pour F44 = [44, 146, 157, 158, 161, 181]\n",
            "------- --------\n",
            "F45\n",
            "liste_donnees_extremes pour F45 = [44, 131, 136, 140, 141, 142, 143, 144, 146, 147, 157, 161, 181, 182, 183, 185, 186]\n",
            "------- --------\n",
            "F46\n",
            "liste_donnees_extremes pour F46 = [22, 44, 140, 141, 142, 143, 144, 146, 147, 161, 186]\n",
            "------- --------\n",
            "F47\n",
            "liste_donnees_extremes pour F47 = [22, 138, 140, 142, 144, 146, 147, 161, 166, 186]\n",
            "------- --------\n",
            "F48\n",
            "liste_donnees_extremes pour F48 = [22, 138, 146, 161, 186]\n",
            "------- --------\n",
            "F49\n",
            "liste_donnees_extremes pour F49 = [22, 140, 146, 186]\n",
            "------- --------\n",
            "F50\n",
            "liste_donnees_extremes pour F50 = [22, 33, 140, 145, 147]\n",
            "------- --------\n",
            "F51\n",
            "liste_donnees_extremes pour F51 = [135, 140, 146]\n",
            "------- --------\n",
            "F52\n",
            "liste_donnees_extremes pour F52 = [35, 136, 138, 140, 143, 144, 146]\n",
            "------- --------\n",
            "F53\n",
            "liste_donnees_extremes pour F53 = [133, 147]\n",
            "------- --------\n",
            "F54\n",
            "liste_donnees_extremes pour F54 = [129, 135, 142]\n",
            "------- --------\n",
            "F55\n",
            "liste_donnees_extremes pour F55 = [99, 104, 105, 127, 134, 142, 145, 147]\n",
            "------- --------\n",
            "F56\n",
            "liste_donnees_extremes pour F56 = [2, 105, 133, 135, 147]\n",
            "------- --------\n",
            "F57\n",
            "liste_donnees_extremes pour F57 = [2, 34, 36, 87, 99, 100, 112, 147]\n",
            "------- --------\n",
            "F58\n",
            "liste_donnees_extremes pour F58 = [101, 112, 122, 127, 147]\n",
            "------- --------\n",
            "F59\n",
            "liste_donnees_extremes pour F59 = [44, 65, 97, 102, 115, 135, 142, 146, 147]\n",
            "------- --------\n",
            "F60\n",
            "liste_donnees_extremes pour F60 = [97, 98, 115, 136, 141, 142]\n",
            "------- --------\n",
            "Index de toutes les données extrêmes : [4, 87, 98, 129, 131, 132, 133, 134, 136, 146, 85, 98, 102, 129, 131, 136, 138, 140, 141, 145, 6, 85, 98, 100, 102, 111, 129, 138, 141, 148, 19, 98, 102, 111, 129, 133, 138, 141, 148, 19, 98, 111, 130, 147, 20, 91, 138, 19, 20, 91, 127, 134, 1, 2, 19, 91, 132, 134, 135, 136, 171, 2, 19, 132, 133, 134, 135, 136, 171, 2, 19, 133, 134, 137, 171, 184, 137, 184, 127, 21, 3, 22, 3, 22, 22, 143, 44, 146, 44, 146, 157, 158, 161, 181, 44, 131, 136, 140, 141, 142, 143, 144, 146, 147, 157, 161, 181, 182, 183, 185, 186, 22, 44, 140, 141, 142, 143, 144, 146, 147, 161, 186, 22, 138, 140, 142, 144, 146, 147, 161, 166, 186, 22, 138, 146, 161, 186, 22, 140, 146, 186, 22, 33, 140, 145, 147, 135, 140, 146, 35, 136, 138, 140, 143, 144, 146, 133, 147, 129, 135, 142, 99, 104, 105, 127, 134, 142, 145, 147, 2, 105, 133, 135, 147, 2, 34, 36, 87, 99, 100, 112, 147, 101, 112, 122, 127, 147, 44, 65, 97, 102, 115, 135, 142, 146, 147, 97, 98, 115, 136, 141, 142]\n",
            "[1, 2, 2, 2, 2, 2, 3, 3, 4, 6, 19, 19, 19, 19, 19, 19, 20, 20, 21, 22, 22, 22, 22, 22, 22, 22, 22, 33, 34, 35, 36, 44, 44, 44, 44, 44, 65, 85, 85, 87, 87, 91, 91, 91, 97, 97, 98, 98, 98, 98, 98, 98, 99, 99, 100, 100, 101, 102, 102, 102, 102, 104, 105, 105, 111, 111, 111, 112, 112, 115, 115, 122, 127, 127, 127, 127, 129, 129, 129, 129, 129, 130, 131, 131, 131, 132, 132, 132, 133, 133, 133, 133, 133, 133, 134, 134, 134, 134, 134, 134, 135, 135, 135, 135, 135, 135, 136, 136, 136, 136, 136, 136, 136, 137, 137, 138, 138, 138, 138, 138, 138, 138, 140, 140, 140, 140, 140, 140, 140, 140, 141, 141, 141, 141, 141, 141, 142, 142, 142, 142, 142, 142, 142, 143, 143, 143, 143, 144, 144, 144, 144, 145, 145, 145, 146, 146, 146, 146, 146, 146, 146, 146, 146, 146, 146, 147, 147, 147, 147, 147, 147, 147, 147, 147, 147, 147, 148, 148, 157, 157, 158, 161, 161, 161, 161, 161, 166, 171, 171, 171, 181, 181, 182, 183, 184, 184, 185, 186, 186, 186, 186, 186]\n"
          ]
        }
      ],
      "source": [
        "import numpy as np\n",
        "import pandas as pd\n",
        "from collections import Counter\n",
        "\n",
        "# Liste des colonnes numériques à traiter\n",
        "colonnes = [col for col in observations.columns if col != \"OBJET\"]\n",
        "\n",
        "num_lignes = []  # index des données extrêmes\n",
        "\n",
        "# Parcours des colonnes\n",
        "for caracteristique in colonnes:\n",
        "    print(caracteristique)\n",
        "\n",
        "    # Médiane et MAD\n",
        "    median = observations[caracteristique].median()\n",
        "    mad = np.median(np.abs(observations[caracteristique] - median))\n",
        "\n",
        "    # Z-score robuste\n",
        "    z_robust = (observations[caracteristique] - median) / (1.4826 * mad)\n",
        "\n",
        "    # Indices extrêmes selon le seuil (3.5 est une valeur courante)\n",
        "    indices_extremes = observations[np.abs(z_robust) > 3.5].index.tolist()\n",
        "\n",
        "    num_lignes.extend(indices_extremes)\n",
        "\n",
        "    #print(f\"liste_donnees_extremes pour {caracteristique} = {indices_extremes}\")\n",
        "    #print(\"------- --------\")\n",
        "\n",
        "# Index de toutes les données extrêmes\n",
        "#print(\"Index de toutes les données extrêmes :\", num_lignes)\n",
        "\n",
        "# Tri\n",
        "num_lignes.sort()\n",
        "print(num_lignes)\n",
        "\n",
        "# Comptage par ligne\n",
        "counts = Counter(num_lignes)\n",
        "\n",
        "# Critère : au moins 7 valeurs extrêmes sur la même ligne\n",
        "num_lignes_a_supprimer_zr = [idx for idx, cnt in counts.items() if cnt > 7]\n",
        "\n",
        "# Nettoyage des données\n",
        "cleaned_data_zr = observations.drop(index=num_lignes_a_supprimer_zr).reset_index(drop=True)\n"
      ]
    },
    {
      "cell_type": "markdown",
      "metadata": {},
      "source": [
        "# Comparaison "
      ]
    },
    {
      "cell_type": "code",
      "execution_count": 67,
      "metadata": {},
      "outputs": [
        {
          "name": "stdout",
          "output_type": "stream",
          "text": [
            "[22, 140, 146, 147]\n",
            "[22, 146, 147]\n",
            "[19, 22, 44, 131, 133, 134, 135, 136, 138, 140, 142, 146, 147]\n"
          ]
        }
      ],
      "source": [
        "print(num_lignes_a_supprimer_zr)\n",
        "print(num_lignes_a_supprimer_et)\n",
        "print(num_lignes_a_supprimer_iq)"
      ]
    }
  ],
  "metadata": {
    "colab": {
      "collapsed_sections": [
        "rzO57fT2DiKQ",
        "gldmQC9uDS_e",
        "qA9GJB5cLCdG"
      ],
      "provenance": []
    },
    "kernelspec": {
      "display_name": "Python 3",
      "language": "python",
      "name": "python3"
    },
    "language_info": {
      "codemirror_mode": {
        "name": "ipython",
        "version": 3
      },
      "file_extension": ".py",
      "mimetype": "text/x-python",
      "name": "python",
      "nbconvert_exporter": "python",
      "pygments_lexer": "ipython3",
      "version": "3.11.9"
    }
  },
  "nbformat": 4,
  "nbformat_minor": 0
}
