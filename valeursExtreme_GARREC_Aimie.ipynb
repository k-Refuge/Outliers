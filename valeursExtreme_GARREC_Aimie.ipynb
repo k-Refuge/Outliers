{
  "cells": [
    {
      "cell_type": "code",
      "execution_count": 1,
      "metadata": {
        "colab": {
          "base_uri": "https://localhost:8080/"
        },
        "id": "awgaDZBfgV6q",
        "outputId": "8e01e306-eef6-44fe-c9df-6ac65519abd2"
      },
      "outputs": [
        {
          "name": "stdout",
          "output_type": "stream",
          "text": [
            "OBJET\n",
            "M    111\n",
            "R     97\n",
            "Name: count, dtype: int64\n",
            "['F1' 'F2' 'F3' 'F4' 'F5' 'F6' 'F7' 'F8' 'F9' 'F10' 'F11' 'F12' 'F13'\n",
            " 'F14' 'F15' 'F16' 'F17' 'F18' 'F19' 'F20' 'F21' 'F22' 'F23' 'F24' 'F25'\n",
            " 'F26' 'F27' 'F28' 'F29' 'F30' 'F31' 'F32' 'F33' 'F34' 'F35' 'F36' 'F37'\n",
            " 'F38' 'F39' 'F40' 'F41' 'F42' 'F43' 'F44' 'F45' 'F46' 'F47' 'F48' 'F49'\n",
            " 'F50' 'F51' 'F52' 'F53' 'F54' 'F55' 'F56' 'F57' 'F58' 'F59' 'F60' 'OBJET']\n",
            "(208, 61)\n"
          ]
        }
      ],
      "source": [
        "#Aquisition des données\n",
        "import pandas as pnd\n",
        "observations = pnd.read_csv(\"H:/Documents/Ing3/Python/Pandas/data/sonar.all-data.csv\", names=[\"F1\",\"F2\",\"F3\",\"F4\",\"F5\",\"F6\",\"F7\",\"F8\",\"F9\",\n",
        "                                                      \"F10\",\"F11\",\"F12\",\"F13\",\"F14\",\"F15\",\"F16\",\"F17\",\"F18\",\"F19\",\n",
        "                                                      \"F20\",\"F21\",\"F22\",\"F23\",\"F24\",\"F25\",\"F26\",\"F27\",\"F28\",\"F29\",\n",
        "                                                      \"F30\",\"F31\",\"F32\",\"F33\",\"F34\",\"F35\",\"F36\",\"F37\",\"F38\",\"F39\",\n",
        "                                                      \"F40\",\"F41\",\"F42\",\"F43\",\"F44\",\"F45\",\"F46\",\"F47\",\"F48\",\"F49\",\n",
        "                                                      \"F50\",\"F51\",\"F52\",\"F53\",\"F54\",\"F55\",\"F56\",\"F57\",\"F58\",\"F59\",\n",
        "                                                      \"F60\",\"OBJET\"]) # Lecture du csv en nommant les colonnes\n",
        "observations.head(2) # affichage des 2 premières lignes\n",
        "print(observations['OBJET'].value_counts()) # Compte et affiche le nombre d'occurrences de chaque valeur unique dans la colonne 'OBJET'\n",
        "print(observations.columns.values) # Affiche la liste des noms de colonnes du DataFrame\n",
        "print(observations.shape) # Donne la dimension du data frame"
      ]
    },
    {
      "cell_type": "markdown",
      "metadata": {
        "id": "wQ5ygVGqgV6r"
      },
      "source": [
        "\n",
        "Nous allons identifier les valeurs extrêmes présentes dans les lignes du dataset.\n",
        "Une donnée est considérée comme aberrante lorsque l’écart absolu par rapport à Q1 ou Q3 dépasse 1,5 fois l’écart interquartile (IQR).\n",
        "Plus concrètement :\n",
        "- une valeur est dite aberrante faible si elle est inférieure à Q1 - 1.5 * (Q3 - Q1),\n",
        "- et aberrante élevée si elle est supérieure à Q3 + 1.5 * (Q3 - Q1).\n",
        "\n",
        "Enfin, nous supprimerons les lignes contenant au moins 7 valeurs aberrantes.\n"
      ]
    },
    {
      "cell_type": "code",
      "execution_count": 2,
      "metadata": {
        "colab": {
          "base_uri": "https://localhost:8080/"
        },
        "id": "dV4ZQB4-gV6r",
        "outputId": "88f8898e-3c2e-4cd3-8622-ae39a520c98b"
      },
      "outputs": [
        {
          "name": "stdout",
          "output_type": "stream",
          "text": [
            "0      R\n",
            "1      R\n",
            "2      R\n",
            "3      R\n",
            "4      R\n",
            "      ..\n",
            "203    M\n",
            "204    M\n",
            "205    M\n",
            "206    M\n",
            "207    M\n",
            "Name: OBJET, Length: 208, dtype: object\n"
          ]
        }
      ],
      "source": [
        "#rendre la colonne Objet numérique\n",
        "print(observations['OBJET']) # Affiche la colonne OBJET\n",
        "\n",
        "\n",
        "num_lignes = [] # Initialise la liste"
      ]
    },
    {
      "cell_type": "markdown",
      "metadata": {
        "id": "hU-5auergV6s"
      },
      "source": [
        "êmes."
      ]
    },
    {
      "cell_type": "code",
      "execution_count": 3,
      "metadata": {
        "id": "WTtBk-1MgV6s"
      },
      "outputs": [],
      "source": [
        "#"
      ]
    },
    {
      "cell_type": "code",
      "execution_count": 4,
      "metadata": {
        "colab": {
          "base_uri": "https://localhost:8080/"
        },
        "id": "yMAPBt1PgV6s",
        "outputId": "45c8a364-c947-430b-b520-3f4647b078b7"
      },
      "outputs": [
        {
          "name": "stdout",
          "output_type": "stream",
          "text": [
            "F1\n",
            "liste_donnees_extremes pour la caractéristique F1= [4, 87, 98, 126, 129, 131, 132, 133, 134, 136, 138, 141, 145, 146, 148]\n",
            "------- --------\n",
            "F2\n",
            "liste_donnees_extremes pour la caractéristique F2= [6, 85, 98, 100, 102, 129, 131, 134, 136, 138, 140, 141, 145]\n",
            "------- --------\n",
            "F3\n",
            "liste_donnees_extremes pour la caractéristique F3= [6, 85, 98, 100, 102, 111, 129, 138, 141, 142, 148]\n",
            "------- --------\n",
            "F4\n",
            "liste_donnees_extremes pour la caractéristique F4= [6, 19, 20, 85, 97, 98, 102, 111, 129, 133, 138, 141, 148]\n",
            "------- --------\n",
            "F5\n",
            "liste_donnees_extremes pour la caractéristique F5= [19, 98, 111, 130, 147]\n",
            "------- --------\n",
            "F6\n",
            "liste_donnees_extremes pour la caractéristique F6= [1, 19, 20, 90, 91, 130, 138, 143]\n",
            "------- --------\n",
            "F7\n",
            "liste_donnees_extremes pour la caractéristique F7= [19, 20, 91, 127, 134]\n",
            "------- --------\n",
            "F8\n",
            "liste_donnees_extremes pour la caractéristique F8= [1, 2, 19, 87, 91, 127, 132, 134, 135, 136, 171]\n",
            "------- --------\n",
            "F9\n",
            "liste_donnees_extremes pour la caractéristique F9= [2, 19, 132, 133, 134, 135, 136, 171]\n",
            "------- --------\n",
            "F10\n",
            "liste_donnees_extremes pour la caractéristique F10= [2, 19, 131, 133, 134, 135, 136, 137, 171, 184]\n",
            "------- --------\n",
            "F11\n",
            "liste_donnees_extremes pour la caractéristique F11= [2, 19, 137, 171, 184]\n",
            "------- --------\n",
            "F12\n",
            "liste_donnees_extremes pour la caractéristique F12= [1, 2]\n",
            "------- --------\n",
            "F13\n",
            "liste_donnees_extremes pour la caractéristique F13= [1, 5, 101, 129]\n",
            "------- --------\n",
            "F14\n",
            "liste_donnees_extremes pour la caractéristique F14= [1, 5, 101, 127, 130]\n",
            "------- --------\n",
            "F15\n",
            "liste_donnees_extremes pour la caractéristique F15= [5, 127]\n",
            "------- --------\n",
            "F16\n",
            "liste_donnees_extremes pour la caractéristique F16= []\n",
            "------- --------\n",
            "F17\n",
            "liste_donnees_extremes pour la caractéristique F17= []\n",
            "------- --------\n",
            "F18\n",
            "liste_donnees_extremes pour la caractéristique F18= []\n",
            "------- --------\n",
            "F19\n",
            "liste_donnees_extremes pour la caractéristique F19= []\n",
            "------- --------\n",
            "F20\n",
            "liste_donnees_extremes pour la caractéristique F20= []\n",
            "------- --------\n",
            "F21\n",
            "liste_donnees_extremes pour la caractéristique F21= []\n",
            "------- --------\n",
            "F22\n",
            "liste_donnees_extremes pour la caractéristique F22= []\n",
            "------- --------\n",
            "F23\n",
            "liste_donnees_extremes pour la caractéristique F23= []\n",
            "------- --------\n",
            "F24\n",
            "liste_donnees_extremes pour la caractéristique F24= [101, 133]\n",
            "------- --------\n",
            "F25\n",
            "liste_donnees_extremes pour la caractéristique F25= []\n",
            "------- --------\n",
            "F26\n",
            "liste_donnees_extremes pour la caractéristique F26= []\n",
            "------- --------\n",
            "F27\n",
            "liste_donnees_extremes pour la caractéristique F27= []\n",
            "------- --------\n",
            "F28\n",
            "liste_donnees_extremes pour la caractéristique F28= []\n",
            "------- --------\n",
            "F29\n",
            "liste_donnees_extremes pour la caractéristique F29= []\n",
            "------- --------\n",
            "F30\n",
            "liste_donnees_extremes pour la caractéristique F30= []\n",
            "------- --------\n",
            "F31\n",
            "liste_donnees_extremes pour la caractéristique F31= []\n",
            "------- --------\n",
            "F32\n",
            "liste_donnees_extremes pour la caractéristique F32= []\n",
            "------- --------\n",
            "F33\n",
            "liste_donnees_extremes pour la caractéristique F33= []\n",
            "------- --------\n",
            "F34\n",
            "liste_donnees_extremes pour la caractéristique F34= []\n",
            "------- --------\n",
            "F35\n",
            "liste_donnees_extremes pour la caractéristique F35= []\n",
            "------- --------\n",
            "F36\n",
            "liste_donnees_extremes pour la caractéristique F36= []\n",
            "------- --------\n",
            "F37\n",
            "liste_donnees_extremes pour la caractéristique F37= []\n",
            "------- --------\n",
            "F38\n",
            "liste_donnees_extremes pour la caractéristique F38= [3, 17, 21, 22, 131, 134, 135, 136]\n",
            "------- --------\n",
            "F39\n",
            "liste_donnees_extremes pour la caractéristique F39= [3, 21, 22, 44, 131]\n",
            "------- --------\n",
            "F40\n",
            "liste_donnees_extremes pour la caractéristique F40= [3, 22, 44, 164]\n",
            "------- --------\n",
            "F41\n",
            "liste_donnees_extremes pour la caractéristique F41= [16, 22, 44, 164]\n",
            "------- --------\n",
            "F42\n",
            "liste_donnees_extremes pour la caractéristique F42= [22, 44, 143, 146]\n",
            "------- --------\n",
            "F43\n",
            "liste_donnees_extremes pour la caractéristique F43= [44, 47, 140, 146, 181]\n",
            "------- --------\n",
            "F44\n",
            "liste_donnees_extremes pour la caractéristique F44= [44, 142, 146, 156, 157, 158, 159, 161, 181, 183, 186]\n",
            "------- --------\n",
            "F45\n",
            "liste_donnees_extremes pour la caractéristique F45= [22, 44, 131, 133, 134, 136, 140, 141, 142, 143, 144, 146, 147, 156, 157, 158, 159, 161, 180, 181, 182, 183, 185, 186]\n",
            "------- --------\n",
            "F46\n",
            "liste_donnees_extremes pour la caractéristique F46= [22, 44, 131, 136, 140, 141, 142, 143, 144, 145, 146, 147, 157, 161, 166, 186]\n",
            "------- --------\n",
            "F47\n",
            "liste_donnees_extremes pour la caractéristique F47= [22, 44, 138, 140, 142, 143, 144, 146, 147, 157, 161, 166, 186]\n",
            "------- --------\n",
            "F48\n",
            "liste_donnees_extremes pour la caractéristique F48= [22, 135, 138, 140, 146, 147, 161, 166, 186]\n",
            "------- --------\n",
            "F49\n",
            "liste_donnees_extremes pour la caractéristique F49= [22, 86, 87, 138, 140, 146, 161, 186]\n",
            "------- --------\n",
            "F50\n",
            "liste_donnees_extremes pour la caractéristique F50= [16, 22, 33, 130, 131, 132, 133, 140, 145, 146, 147, 149, 164, 186]\n",
            "------- --------\n",
            "F51\n",
            "liste_donnees_extremes pour la caractéristique F51= [16, 22, 135, 140, 143, 146]\n",
            "------- --------\n",
            "F52\n",
            "liste_donnees_extremes pour la caractéristique F52= [16, 17, 35, 98, 102, 104, 136, 138, 140, 142, 143, 144, 146]\n",
            "------- --------\n",
            "F53\n",
            "liste_donnees_extremes pour la caractéristique F53= [133, 146, 147]\n",
            "------- --------\n",
            "F54\n",
            "liste_donnees_extremes pour la caractéristique F54= [129, 132, 133, 135, 138, 142, 146]\n",
            "------- --------\n",
            "F55\n",
            "liste_donnees_extremes pour la caractéristique F55= [99, 104, 105, 127, 134, 142, 145, 146, 147]\n",
            "------- --------\n",
            "F56\n",
            "liste_donnees_extremes pour la caractéristique F56= [2, 105, 132, 133, 135, 147]\n",
            "------- --------\n",
            "F57\n",
            "liste_donnees_extremes pour la caractéristique F57= [2, 34, 36, 87, 99, 100, 112, 147]\n",
            "------- --------\n",
            "F58\n",
            "liste_donnees_extremes pour la caractéristique F58= [99, 101, 112, 122, 127, 136, 140, 146, 147]\n",
            "------- --------\n",
            "F59\n",
            "liste_donnees_extremes pour la caractéristique F59= [44, 65, 88, 97, 102, 115, 132, 135, 138, 142, 146, 147]\n",
            "------- --------\n",
            "F60\n",
            "liste_donnees_extremes pour la caractéristique F60= [44, 88, 97, 98, 115, 136, 141, 142]\n",
            "------- --------\n",
            "Index de toutes les données extrêmes : [4, 87, 98, 126, 129, 131, 132, 133, 134, 136, 138, 141, 145, 146, 148, 6, 85, 98, 100, 102, 129, 131, 134, 136, 138, 140, 141, 145, 6, 85, 98, 100, 102, 111, 129, 138, 141, 142, 148, 6, 19, 20, 85, 97, 98, 102, 111, 129, 133, 138, 141, 148, 19, 98, 111, 130, 147, 1, 19, 20, 90, 91, 130, 138, 143, 19, 20, 91, 127, 134, 1, 2, 19, 87, 91, 127, 132, 134, 135, 136, 171, 2, 19, 132, 133, 134, 135, 136, 171, 2, 19, 131, 133, 134, 135, 136, 137, 171, 184, 2, 19, 137, 171, 184, 1, 2, 1, 5, 101, 129, 1, 5, 101, 127, 130, 5, 127, 101, 133, 3, 17, 21, 22, 131, 134, 135, 136, 3, 21, 22, 44, 131, 3, 22, 44, 164, 16, 22, 44, 164, 22, 44, 143, 146, 44, 47, 140, 146, 181, 44, 142, 146, 156, 157, 158, 159, 161, 181, 183, 186, 22, 44, 131, 133, 134, 136, 140, 141, 142, 143, 144, 146, 147, 156, 157, 158, 159, 161, 180, 181, 182, 183, 185, 186, 22, 44, 131, 136, 140, 141, 142, 143, 144, 145, 146, 147, 157, 161, 166, 186, 22, 44, 138, 140, 142, 143, 144, 146, 147, 157, 161, 166, 186, 22, 135, 138, 140, 146, 147, 161, 166, 186, 22, 86, 87, 138, 140, 146, 161, 186, 16, 22, 33, 130, 131, 132, 133, 140, 145, 146, 147, 149, 164, 186, 16, 22, 135, 140, 143, 146, 16, 17, 35, 98, 102, 104, 136, 138, 140, 142, 143, 144, 146, 133, 146, 147, 129, 132, 133, 135, 138, 142, 146, 99, 104, 105, 127, 134, 142, 145, 146, 147, 2, 105, 132, 133, 135, 147, 2, 34, 36, 87, 99, 100, 112, 147, 99, 101, 112, 122, 127, 136, 140, 146, 147, 44, 65, 88, 97, 102, 115, 132, 135, 138, 142, 146, 147, 44, 88, 97, 98, 115, 136, 141, 142]\n"
          ]
        }
      ],
      "source": [
        "# On parcourt toutes les caractéristiques\n",
        "import numpy as np\n",
        "\n",
        "num_lignes = []  # liste qui va contenir les index des données extrêmes\n",
        "colonnes = [col for col in observations.columns if col != \"OBJET\"] # Stocke les colonnes différentes d'OBJET\n",
        "for caracteristique in colonnes:\n",
        "    print(caracteristique)\n",
        "    liste_donnees_extremes = []\n",
        "    Q1 = observations[caracteristique].quantile(0.25)\n",
        "    Q3 = observations[caracteristique].quantile(0.75)\n",
        "    IQR = Q3 - Q1\n",
        "    for i in range (len(observations[caracteristique])):\n",
        "      val = observations.loc[i,caracteristique]\n",
        "      if (val < (Q1 - 1.5*IQR)) or (val > (Q3 + 1.5*IQR)):\n",
        "        liste_donnees_extremes.append(i)\n",
        "        num_lignes.append(i)\n",
        "    print(f'liste_donnees_extremes pour la caractéristique {caracteristique}=',liste_donnees_extremes)\n",
        "    print('------- --------')\n",
        "\n",
        "\n",
        "# Affichage final des index de toutes les données extrêmes\n",
        "print(\"Index de toutes les données extrêmes :\", num_lignes)\n"
      ]
    },
    {
      "cell_type": "code",
      "execution_count": 5,
      "metadata": {
        "colab": {
          "base_uri": "https://localhost:8080/"
        },
        "id": "rdLYjicbgV6s",
        "outputId": "074f7e14-e0e3-482f-907b-e4aadf78fb51"
      },
      "outputs": [
        {
          "name": "stdout",
          "output_type": "stream",
          "text": [
            "[1, 1, 1, 1, 1, 2, 2, 2, 2, 2, 2, 2, 3, 3, 3, 4, 5, 5, 5, 6, 6, 6, 16, 16, 16, 16, 17, 17, 19, 19, 19, 19, 19, 19, 19, 19, 20, 20, 20, 21, 21, 22, 22, 22, 22, 22, 22, 22, 22, 22, 22, 22, 22, 33, 34, 35, 36, 44, 44, 44, 44, 44, 44, 44, 44, 44, 44, 44, 47, 65, 85, 85, 85, 86, 87, 87, 87, 87, 88, 88, 90, 91, 91, 91, 97, 97, 97, 98, 98, 98, 98, 98, 98, 98, 99, 99, 99, 100, 100, 100, 101, 101, 101, 101, 102, 102, 102, 102, 102, 104, 104, 105, 105, 111, 111, 111, 112, 112, 115, 115, 122, 126, 127, 127, 127, 127, 127, 127, 129, 129, 129, 129, 129, 129, 130, 130, 130, 130, 131, 131, 131, 131, 131, 131, 131, 131, 132, 132, 132, 132, 132, 132, 132, 133, 133, 133, 133, 133, 133, 133, 133, 133, 133, 134, 134, 134, 134, 134, 134, 134, 134, 134, 135, 135, 135, 135, 135, 135, 135, 135, 135, 136, 136, 136, 136, 136, 136, 136, 136, 136, 136, 136, 137, 137, 138, 138, 138, 138, 138, 138, 138, 138, 138, 138, 138, 140, 140, 140, 140, 140, 140, 140, 140, 140, 140, 140, 141, 141, 141, 141, 141, 141, 141, 142, 142, 142, 142, 142, 142, 142, 142, 142, 142, 143, 143, 143, 143, 143, 143, 143, 144, 144, 144, 144, 145, 145, 145, 145, 145, 146, 146, 146, 146, 146, 146, 146, 146, 146, 146, 146, 146, 146, 146, 146, 146, 146, 147, 147, 147, 147, 147, 147, 147, 147, 147, 147, 147, 147, 148, 148, 148, 149, 156, 156, 157, 157, 157, 157, 158, 158, 159, 159, 161, 161, 161, 161, 161, 161, 164, 164, 164, 166, 166, 166, 171, 171, 171, 171, 180, 181, 181, 181, 182, 183, 183, 184, 184, 185, 186, 186, 186, 186, 186, 186, 186]\n",
            "[19, 22, 44, 131, 133, 134, 135, 136, 138, 140, 142, 146, 147]\n"
          ]
        }
      ],
      "source": [
        "#On ordonne la liste par ordre croissant des index\n",
        "num_lignes.sort()\n",
        "print(num_lignes)\n",
        "\n",
        "#On crée une liste contenant les numéros de lignes à supprimer\n",
        "from collections import Counter\n",
        "occurences = Counter(num_lignes)\n",
        "num_lignes_a_supprimer=[elem for elem, count in occurences.items() if count > 7]\n",
        "print(num_lignes_a_supprimer)"
      ]
    },
    {
      "cell_type": "markdown",
      "metadata": {
        "id": "PeHY4qd4pDG3"
      },
      "source": [
        "<h1>Travail demandé</h1>\n",
        "Rédigez un état de l’art sur la détection des valeurs aberrantes (outliers) dans les datasets. Vous devez :\n",
        "\n",
        "1. Présenter les principales méthodes existantes (statistiques classiques, méthodes robustes, techniques basées sur le machine learning, approches graphiques…).\n",
        "\n",
        "2. Comparer leurs avantages et limites selon le type de données (univariées, multivariées, volumineuses…).\n",
        "\n",
        "3. Illustrer chaque méthode par des exemples concrets d’application"
      ]
    }
  ],
  "metadata": {
    "colab": {
      "provenance": []
    },
    "kernelspec": {
      "display_name": "Python 3",
      "language": "python",
      "name": "python3"
    },
    "language_info": {
      "codemirror_mode": {
        "name": "ipython",
        "version": 3
      },
      "file_extension": ".py",
      "mimetype": "text/x-python",
      "name": "python",
      "nbconvert_exporter": "python",
      "pygments_lexer": "ipython3",
      "version": "3.11.3"
    }
  },
  "nbformat": 4,
  "nbformat_minor": 0
}
